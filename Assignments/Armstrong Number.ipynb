{
 "cells": [
  {
   "cell_type": "code",
   "execution_count": 1,
   "metadata": {},
   "outputs": [
    {
     "name": "stdout",
     "output_type": "stream",
     "text": [
      "153\n",
      "153\n",
      "It is an armstrong number\n"
     ]
    }
   ],
   "source": [
    "a=int(input())\n",
    "m=a\n",
    "count=0\n",
    "while(a!=0):\n",
    "    b=a%10\n",
    "    count+=(b*b*b)\n",
    "    a=a//10\n",
    "print(count)\n",
    "if(count==m):\n",
    "    print(\"It is an armstrong number\")\n",
    "else:\n",
    "    print(\"It is not a armstrong number\")\n",
    "    "
   ]
  },
  {
   "cell_type": "code",
   "execution_count": null,
   "metadata": {},
   "outputs": [],
   "source": []
  }
 ],
 "metadata": {
  "kernelspec": {
   "display_name": "Python 3",
   "language": "python",
   "name": "python3"
  },
  "language_info": {
   "codemirror_mode": {
    "name": "ipython",
    "version": 3
   },
   "file_extension": ".py",
   "mimetype": "text/x-python",
   "name": "python",
   "nbconvert_exporter": "python",
   "pygments_lexer": "ipython3",
   "version": "3.7.6"
  }
 },
 "nbformat": 4,
 "nbformat_minor": 4
}
